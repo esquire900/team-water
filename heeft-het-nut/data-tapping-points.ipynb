{
 "cells": [
  {
   "cell_type": "code",
   "execution_count": 1,
   "metadata": {},
   "outputs": [],
   "source": [
    "import pandas as pd\n",
    "import numpy as np\n",
    "from jupyterthemes import jtplot\n",
    "\n",
    "jtplot.style()\n",
    "\n",
    "import statsmodels.api as sm"
   ]
  },
  {
   "cell_type": "code",
   "execution_count": 62,
   "metadata": {},
   "outputs": [],
   "source": [
    "df = pd.read_csv('./../data/Monsteruitslagen_Resultaten.csv')\n",
    "df['datetime'] = pd.to_datetime(df.datum + ' ' + df.tijd)\n",
    "\n",
    "def convert_tappunt(x):\n",
    "    x = str(x).lower()\n",
    "    if 'thermostatische douchemengkraan' in x or 'therm.' in x:\n",
    "        return 'therm douche'\n",
    "    if 'douche' in x:\n",
    "        return 'douche'\n",
    "    if '1e tappunt' in x:\n",
    "        return '1e tappunt'\n",
    "    return 'overige'\n",
    "\n",
    "def convert_ruimte(x):\n",
    "    x = str(x).lower()\n",
    "    if 'kelder' in x:\n",
    "        return 'kelder'\n",
    "    if 'kamer' in x:\n",
    "        return 'kamer'\n",
    "    if 'appartement' in x:\n",
    "        return 'appartement'\n",
    "    if 'technische ruimte' in x:\n",
    "        return 'technische ruimte'\n",
    "    if 'kapsalon' in x:\n",
    "        return 'kapsalon'\n",
    "    return 'overige'\n",
    "    \n",
    "df['tappunt_simple'] = df.tappunt.apply(convert_tappunt)\n",
    "df['ruimte_simple'] = df.ruimte.apply(convert_ruimte)\n",
    "df['location_is_Noorderkroon'] = df.locatienaam.str.contains('Noorderkroon')\n",
    "\n",
    "df_tmp = df[df.component == 'Totaal Legionella spp'].copy()\n",
    "df_tmp.resultaat = df_tmp.resultaat.str.replace('<100', '0').astype(int)\n",
    "df_tmp.resultaat.groupby(pd.qcut(df_tmp.tempvoor, 4)).describe()\n",
    "\n",
    "def get_level(x):\n",
    "    for i in [0,1,2,3,4]:\n",
    "        if '{}.'.format(i) in x:\n",
    "            return i\n",
    "    return -1\n",
    "    \n",
    "df_tmp['app_level'] = df_tmp.ruimte.apply(get_level)\n",
    "target = (df_tmp.resultaat > 0).astype(int)"
   ]
  },
  {
   "cell_type": "code",
   "execution_count": 63,
   "metadata": {},
   "outputs": [
    {
     "data": {
      "text/plain": [
       "tappunt_simple  ruimte_simple\n",
       "1e tappunt      kelder           0.013514\n",
       "douche          appartement      0.462810\n",
       "                kamer            0.291667\n",
       "                kapsalon         0.000000\n",
       "                overige          0.000000\n",
       "overige         appartement      0.000000\n",
       "                kelder           0.000000\n",
       "                overige          0.000000\n",
       "therm douche    appartement      0.514286\n",
       "                kamer            0.362637\n",
       "                kelder           0.000000\n",
       "Name: resultaat, dtype: float64"
      ]
     },
     "execution_count": 63,
     "metadata": {},
     "output_type": "execute_result"
    }
   ],
   "source": [
    "target.groupby([df_tmp.tappunt_simple, df_tmp.ruimte_simple]).mean()"
   ]
  },
  {
   "cell_type": "code",
   "execution_count": 64,
   "metadata": {},
   "outputs": [
    {
     "data": {
      "image/png": "[encoded data removed]",
      "text/plain": [
       "<Figure size 432x288 with 2 Axes>"
      ]
     },
     "metadata": {},
     "output_type": "display_data"
    }
   ],
   "source": [
    "import seaborn as sns; sns.set()\n",
    "d = target.groupby([df_tmp.tappunt_simple, df_tmp.ruimte_simple]).mean()\n",
    "d = d.unstack().replace(np.nan, 0)\n",
    "ax = sns.heatmap(d)"
   ]
  },
  {
   "cell_type": "code",
   "execution_count": 30,
   "metadata": {},
   "outputs": [
    {
     "data": {
      "text/html": [
       "<div>\n",
       "<style scoped>\n",
       "    .dataframe tbody tr th:only-of-type {\n",
       "        vertical-align: middle;\n",
       "    }\n",
       "\n",
       "    .dataframe tbody tr th {\n",
       "        vertical-align: top;\n",
       "    }\n",
       "\n",
       "    .dataframe thead th {\n",
       "        text-align: right;\n",
       "    }\n",
       "</style>\n",
       "<table border=\"1\" class=\"dataframe\">\n",
       "  <thead>\n",
       "    <tr style=\"text-align: right;\">\n",
       "      <th></th>\n",
       "      <th>count</th>\n",
       "      <th>mean</th>\n",
       "      <th>std</th>\n",
       "      <th>min</th>\n",
       "      <th>25%</th>\n",
       "      <th>50%</th>\n",
       "      <th>75%</th>\n",
       "      <th>max</th>\n",
       "    </tr>\n",
       "    <tr>\n",
       "      <th>tappunt_simple</th>\n",
       "      <th></th>\n",
       "      <th></th>\n",
       "      <th></th>\n",
       "      <th></th>\n",
       "      <th></th>\n",
       "      <th></th>\n",
       "      <th></th>\n",
       "      <th></th>\n",
       "    </tr>\n",
       "  </thead>\n",
       "  <tbody>\n",
       "    <tr>\n",
       "      <th>1e tappunt</th>\n",
       "      <td>74.0</td>\n",
       "      <td>0.013514</td>\n",
       "      <td>0.116248</td>\n",
       "      <td>0.0</td>\n",
       "      <td>0.0</td>\n",
       "      <td>0.0</td>\n",
       "      <td>0.0</td>\n",
       "      <td>1.0</td>\n",
       "    </tr>\n",
       "    <tr>\n",
       "      <th>douche</th>\n",
       "      <td>383.0</td>\n",
       "      <td>0.370757</td>\n",
       "      <td>0.483639</td>\n",
       "      <td>0.0</td>\n",
       "      <td>0.0</td>\n",
       "      <td>0.0</td>\n",
       "      <td>1.0</td>\n",
       "      <td>1.0</td>\n",
       "    </tr>\n",
       "    <tr>\n",
       "      <th>overige</th>\n",
       "      <td>4.0</td>\n",
       "      <td>0.000000</td>\n",
       "      <td>0.000000</td>\n",
       "      <td>0.0</td>\n",
       "      <td>0.0</td>\n",
       "      <td>0.0</td>\n",
       "      <td>0.0</td>\n",
       "      <td>0.0</td>\n",
       "    </tr>\n",
       "  </tbody>\n",
       "</table>\n",
       "</div>"
      ],
      "text/plain": [
       "                count      mean       std  min  25%  50%  75%  max\n",
       "tappunt_simple                                                    \n",
       "1e tappunt       74.0  0.013514  0.116248  0.0  0.0  0.0  0.0  1.0\n",
       "douche          383.0  0.370757  0.483639  0.0  0.0  0.0  1.0  1.0\n",
       "overige           4.0  0.000000  0.000000  0.0  0.0  0.0  0.0  0.0"
      ]
     },
     "execution_count": 30,
     "metadata": {},
     "output_type": "execute_result"
    }
   ],
   "source": [
    "(df_tmp.resultaat > 0).astype(int).groupby(df_tmp['tappunt_simple']).describe()"
   ]
  },
  {
   "cell_type": "code",
   "execution_count": 79,
   "metadata": {},
   "outputs": [
    {
     "name": "stdout",
     "output_type": "stream",
     "text": [
      "Optimization terminated successfully.\n",
      "         Current function value: 0.550504\n",
      "         Iterations 8\n"
     ]
    },
    {
     "data": {
      "text/html": [
       "<table class=\"simpletable\">\n",
       "<caption>Logit Regression Results</caption>\n",
       "<tr>\n",
       "  <th>Dep. Variable:</th>     <td>resultaat</td>    <th>  No. Observations:  </th>  <td>   461</td>  \n",
       "</tr>\n",
       "<tr>\n",
       "  <th>Model:</th>               <td>Logit</td>      <th>  Df Residuals:      </th>  <td>   457</td>  \n",
       "</tr>\n",
       "<tr>\n",
       "  <th>Method:</th>               <td>MLE</td>       <th>  Df Model:          </th>  <td>     3</td>  \n",
       "</tr>\n",
       "<tr>\n",
       "  <th>Date:</th>          <td>Fri, 01 Nov 2019</td> <th>  Pseudo R-squ.:     </th>  <td>0.1110</td>  \n",
       "</tr>\n",
       "<tr>\n",
       "  <th>Time:</th>              <td>22:40:09</td>     <th>  Log-Likelihood:    </th> <td> -253.78</td> \n",
       "</tr>\n",
       "<tr>\n",
       "  <th>converged:</th>           <td>True</td>       <th>  LL-Null:           </th> <td> -285.48</td> \n",
       "</tr>\n",
       "<tr>\n",
       "  <th> </th>                      <td> </td>        <th>  LLR p-value:       </th> <td>1.108e-13</td>\n",
       "</tr>\n",
       "</table>\n",
       "<table class=\"simpletable\">\n",
       "<tr>\n",
       "               <td></td>                  <th>coef</th>     <th>std err</th>      <th>z</th>      <th>P>|z|</th>  <th>[0.025</th>    <th>0.975]</th>  \n",
       "</tr>\n",
       "<tr>\n",
       "  <th>tappunt_simple_1e tappunt</th>   <td>   -4.2905</td> <td>    1.007</td> <td>   -4.261</td> <td> 0.000</td> <td>   -6.264</td> <td>   -2.317</td>\n",
       "</tr>\n",
       "<tr>\n",
       "  <th>tappunt_simple_douche</th>       <td>   -0.9889</td> <td>    0.177</td> <td>   -5.587</td> <td> 0.000</td> <td>   -1.336</td> <td>   -0.642</td>\n",
       "</tr>\n",
       "<tr>\n",
       "  <th>tappunt_simple_therm douche</th> <td>   -0.6245</td> <td>    0.195</td> <td>   -3.203</td> <td> 0.001</td> <td>   -1.007</td> <td>   -0.242</td>\n",
       "</tr>\n",
       "<tr>\n",
       "  <th>ruimte_simple_appartement</th>   <td>    0.7865</td> <td>    0.221</td> <td>    3.558</td> <td> 0.000</td> <td>    0.353</td> <td>    1.220</td>\n",
       "</tr>\n",
       "</table>"
      ],
      "text/plain": [
       "<class 'statsmodels.iolib.summary.Summary'>\n",
       "\"\"\"\n",
       "                           Logit Regression Results                           \n",
       "==============================================================================\n",
       "Dep. Variable:              resultaat   No. Observations:                  461\n",
       "Model:                          Logit   Df Residuals:                      457\n",
       "Method:                           MLE   Df Model:                            3\n",
       "Date:                Fri, 01 Nov 2019   Pseudo R-squ.:                  0.1110\n",
       "Time:                        22:40:09   Log-Likelihood:                -253.78\n",
       "converged:                       True   LL-Null:                       -285.48\n",
       "                                        LLR p-value:                 1.108e-13\n",
       "===============================================================================================\n",
       "                                  coef    std err          z      P>|z|      [0.025      0.975]\n",
       "-----------------------------------------------------------------------------------------------\n",
       "tappunt_simple_1e tappunt      -4.2905      1.007     -4.261      0.000      -6.264      -2.317\n",
       "tappunt_simple_douche          -0.9889      0.177     -5.587      0.000      -1.336      -0.642\n",
       "tappunt_simple_therm douche    -0.6245      0.195     -3.203      0.001      -1.007      -0.242\n",
       "ruimte_simple_appartement       0.7865      0.221      3.558      0.000       0.353       1.220\n",
       "===============================================================================================\n",
       "\"\"\""
      ]
     },
     "execution_count": 79,
     "metadata": {},
     "output_type": "execute_result"
    }
   ],
   "source": [
    "dummies =  pd.get_dummies(df_tmp[['tappunt_simple', 'ruimte_simple']])\n",
    "#back stepping\n",
    "for x in ['tappunt_simple_overige', 'ruimte_simple_overige', 'ruimte_simple_kapsalon', 'ruimte_simple_kelder', 'ruimte_simple_kamer']:\n",
    "    dummies = dummies.drop(x, axis=1)\n",
    "model = sm.Logit(df_tmp.resultaat > 0, dummies)\n",
    "model.fit().summary()"
   ]
  },
  {
   "cell_type": "code",
   "execution_count": 31,
   "metadata": {},
   "outputs": [
    {
     "data": {
      "text/html": [
       "<div>\n",
       "<style scoped>\n",
       "    .dataframe tbody tr th:only-of-type {\n",
       "        vertical-align: middle;\n",
       "    }\n",
       "\n",
       "    .dataframe tbody tr th {\n",
       "        vertical-align: top;\n",
       "    }\n",
       "\n",
       "    .dataframe thead th {\n",
       "        text-align: right;\n",
       "    }\n",
       "</style>\n",
       "<table border=\"1\" class=\"dataframe\">\n",
       "  <thead>\n",
       "    <tr style=\"text-align: right;\">\n",
       "      <th></th>\n",
       "      <th>count</th>\n",
       "      <th>mean</th>\n",
       "      <th>std</th>\n",
       "      <th>min</th>\n",
       "      <th>25%</th>\n",
       "      <th>50%</th>\n",
       "      <th>75%</th>\n",
       "      <th>max</th>\n",
       "    </tr>\n",
       "    <tr>\n",
       "      <th>ruimte_simple</th>\n",
       "      <th></th>\n",
       "      <th></th>\n",
       "      <th></th>\n",
       "      <th></th>\n",
       "      <th></th>\n",
       "      <th></th>\n",
       "      <th></th>\n",
       "      <th></th>\n",
       "    </tr>\n",
       "  </thead>\n",
       "  <tbody>\n",
       "    <tr>\n",
       "      <th>appartement</th>\n",
       "      <td>157.0</td>\n",
       "      <td>0.471338</td>\n",
       "      <td>0.500775</td>\n",
       "      <td>0.0</td>\n",
       "      <td>0.0</td>\n",
       "      <td>0.0</td>\n",
       "      <td>1.0</td>\n",
       "      <td>1.0</td>\n",
       "    </tr>\n",
       "    <tr>\n",
       "      <th>kamer</th>\n",
       "      <td>211.0</td>\n",
       "      <td>0.322275</td>\n",
       "      <td>0.468459</td>\n",
       "      <td>0.0</td>\n",
       "      <td>0.0</td>\n",
       "      <td>0.0</td>\n",
       "      <td>1.0</td>\n",
       "      <td>1.0</td>\n",
       "    </tr>\n",
       "    <tr>\n",
       "      <th>kapsalon</th>\n",
       "      <td>7.0</td>\n",
       "      <td>0.000000</td>\n",
       "      <td>0.000000</td>\n",
       "      <td>0.0</td>\n",
       "      <td>0.0</td>\n",
       "      <td>0.0</td>\n",
       "      <td>0.0</td>\n",
       "      <td>0.0</td>\n",
       "    </tr>\n",
       "    <tr>\n",
       "      <th>kelder</th>\n",
       "      <td>77.0</td>\n",
       "      <td>0.012987</td>\n",
       "      <td>0.113961</td>\n",
       "      <td>0.0</td>\n",
       "      <td>0.0</td>\n",
       "      <td>0.0</td>\n",
       "      <td>0.0</td>\n",
       "      <td>1.0</td>\n",
       "    </tr>\n",
       "    <tr>\n",
       "      <th>overige</th>\n",
       "      <td>9.0</td>\n",
       "      <td>0.000000</td>\n",
       "      <td>0.000000</td>\n",
       "      <td>0.0</td>\n",
       "      <td>0.0</td>\n",
       "      <td>0.0</td>\n",
       "      <td>0.0</td>\n",
       "      <td>0.0</td>\n",
       "    </tr>\n",
       "  </tbody>\n",
       "</table>\n",
       "</div>"
      ],
      "text/plain": [
       "               count      mean       std  min  25%  50%  75%  max\n",
       "ruimte_simple                                                    \n",
       "appartement    157.0  0.471338  0.500775  0.0  0.0  0.0  1.0  1.0\n",
       "kamer          211.0  0.322275  0.468459  0.0  0.0  0.0  1.0  1.0\n",
       "kapsalon         7.0  0.000000  0.000000  0.0  0.0  0.0  0.0  0.0\n",
       "kelder          77.0  0.012987  0.113961  0.0  0.0  0.0  0.0  1.0\n",
       "overige          9.0  0.000000  0.000000  0.0  0.0  0.0  0.0  0.0"
      ]
     },
     "execution_count": 31,
     "metadata": {},
     "output_type": "execute_result"
    }
   ],
   "source": [
    "(df_tmp.resultaat > 0).astype(int).groupby(df_tmp['ruimte_simple']).describe()"
   ]
  },
  {
   "cell_type": "code",
   "execution_count": 32,
   "metadata": {},
   "outputs": [
    {
     "name": "stdout",
     "output_type": "stream",
     "text": [
      "Warning: Maximum number of iterations has been exceeded.\n",
      "         Current function value: 0.534777\n",
      "         Iterations: 35\n"
     ]
    },
    {
     "name": "stderr",
     "output_type": "stream",
     "text": [
      "/opt/anaconda3/lib/python3.7/site-packages/statsmodels/base/model.py:508: ConvergenceWarning: Maximum Likelihood optimization failed to converge. Check mle_retvals\n",
      "  \"Check mle_retvals\", ConvergenceWarning)\n"
     ]
    },
    {
     "data": {
      "text/html": [
       "<table class=\"simpletable\">\n",
       "<caption>Logit Regression Results</caption>\n",
       "<tr>\n",
       "  <th>Dep. Variable:</th>     <td>resultaat</td>    <th>  No. Observations:  </th>  <td>   461</td>  \n",
       "</tr>\n",
       "<tr>\n",
       "  <th>Model:</th>               <td>Logit</td>      <th>  Df Residuals:      </th>  <td>   456</td>  \n",
       "</tr>\n",
       "<tr>\n",
       "  <th>Method:</th>               <td>MLE</td>       <th>  Df Model:          </th>  <td>     4</td>  \n",
       "</tr>\n",
       "<tr>\n",
       "  <th>Date:</th>          <td>Fri, 01 Nov 2019</td> <th>  Pseudo R-squ.:     </th>  <td>0.1364</td>  \n",
       "</tr>\n",
       "<tr>\n",
       "  <th>Time:</th>              <td>22:18:57</td>     <th>  Log-Likelihood:    </th> <td> -246.53</td> \n",
       "</tr>\n",
       "<tr>\n",
       "  <th>converged:</th>           <td>False</td>      <th>  LL-Null:           </th> <td> -285.48</td> \n",
       "</tr>\n",
       "<tr>\n",
       "  <th> </th>                      <td> </td>        <th>  LLR p-value:       </th> <td>4.872e-16</td>\n",
       "</tr>\n",
       "</table>\n",
       "<table class=\"simpletable\">\n",
       "<tr>\n",
       "       <td></td>          <th>coef</th>     <th>std err</th>      <th>z</th>      <th>P>|z|</th>  <th>[0.025</th>    <th>0.975]</th>  \n",
       "</tr>\n",
       "<tr>\n",
       "  <th>appartement</th> <td>   -0.1148</td> <td>    0.160</td> <td>   -0.718</td> <td> 0.473</td> <td>   -0.428</td> <td>    0.199</td>\n",
       "</tr>\n",
       "<tr>\n",
       "  <th>kamer</th>       <td>   -0.7433</td> <td>    0.147</td> <td>   -5.046</td> <td> 0.000</td> <td>   -1.032</td> <td>   -0.455</td>\n",
       "</tr>\n",
       "<tr>\n",
       "  <th>kapsalon</th>    <td>  -23.3292</td> <td>  4.4e+04</td> <td>   -0.001</td> <td> 1.000</td> <td>-8.62e+04</td> <td> 8.62e+04</td>\n",
       "</tr>\n",
       "<tr>\n",
       "  <th>kelder</th>      <td>   -4.3307</td> <td>    1.007</td> <td>   -4.303</td> <td> 0.000</td> <td>   -6.304</td> <td>   -2.358</td>\n",
       "</tr>\n",
       "<tr>\n",
       "  <th>overige</th>     <td>  -21.2859</td> <td>  1.4e+04</td> <td>   -0.002</td> <td> 0.999</td> <td>-2.74e+04</td> <td> 2.74e+04</td>\n",
       "</tr>\n",
       "</table>"
      ],
      "text/plain": [
       "<class 'statsmodels.iolib.summary.Summary'>\n",
       "\"\"\"\n",
       "                           Logit Regression Results                           \n",
       "==============================================================================\n",
       "Dep. Variable:              resultaat   No. Observations:                  461\n",
       "Model:                          Logit   Df Residuals:                      456\n",
       "Method:                           MLE   Df Model:                            4\n",
       "Date:                Fri, 01 Nov 2019   Pseudo R-squ.:                  0.1364\n",
       "Time:                        22:18:57   Log-Likelihood:                -246.53\n",
       "converged:                      False   LL-Null:                       -285.48\n",
       "                                        LLR p-value:                 4.872e-16\n",
       "===============================================================================\n",
       "                  coef    std err          z      P>|z|      [0.025      0.975]\n",
       "-------------------------------------------------------------------------------\n",
       "appartement    -0.1148      0.160     -0.718      0.473      -0.428       0.199\n",
       "kamer          -0.7433      0.147     -5.046      0.000      -1.032      -0.455\n",
       "kapsalon      -23.3292    4.4e+04     -0.001      1.000   -8.62e+04    8.62e+04\n",
       "kelder         -4.3307      1.007     -4.303      0.000      -6.304      -2.358\n",
       "overige       -21.2859    1.4e+04     -0.002      0.999   -2.74e+04    2.74e+04\n",
       "===============================================================================\n",
       "\"\"\""
      ]
     },
     "execution_count": 32,
     "metadata": {},
     "output_type": "execute_result"
    }
   ],
   "source": [
    "model = sm.Logit(df_tmp.resultaat > 0, \n",
    "                 pd.get_dummies(df_tmp['ruimte_simple']))\n",
    "model.fit().summary()"
   ]
  },
  {
   "cell_type": "code",
   "execution_count": 33,
   "metadata": {},
   "outputs": [
    {
     "data": {
      "text/plain": [
       "<matplotlib.axes._subplots.AxesSubplot at 0x7fbb8dbd5be0>"
      ]
     },
     "execution_count": 33,
     "metadata": {},
     "output_type": "execute_result"
    },
    {
     "data": {
      "image/png": "[encoded data removed]",
      "text/plain": [
       "<Figure size 432x288 with 1 Axes>"
      ]
     },
     "metadata": {
      "needs_background": "dark"
     },
     "output_type": "display_data"
    }
   ],
   "source": [
    "df_tmp.groupby(['ruimte_simple', 'location_is_Noorderkroon']).count()['id'].plot.bar()"
   ]
  },
  {
   "cell_type": "code",
   "execution_count": 10,
   "metadata": {},
   "outputs": [
    {
     "data": {
      "text/plain": [
       "<matplotlib.axes._subplots.AxesSubplot at 0x7fbb90d796a0>"
      ]
     },
     "execution_count": 10,
     "metadata": {},
     "output_type": "execute_result"
    },
    {
     "data": {
      "image/png": "[encoded data removed]",
      "text/plain": [
       "<Figure size 432x288 with 1 Axes>"
      ]
     },
     "metadata": {
      "needs_background": "dark"
     },
     "output_type": "display_data"
    }
   ],
   "source": [
    "df_tmp.groupby(['tappunt_simple', 'location_is_Noorderkroon']).count()['id'].plot.bar()"
   ]
  },
  {
   "cell_type": "code",
   "execution_count": 18,
   "metadata": {},
   "outputs": [
    {
     "data": {
      "text/plain": [
       "tappunt_simple  datetime\n",
       "1e tappunt      9            5\n",
       "                10          10\n",
       "                11           9\n",
       "                12          19\n",
       "                13          15\n",
       "                14           9\n",
       "                15           7\n",
       "douche          8            1\n",
       "                9            9\n",
       "                10          50\n",
       "                11          72\n",
       "                12          72\n",
       "                13          80\n",
       "                14          85\n",
       "                15          13\n",
       "                16           1\n",
       "overige         11           1\n",
       "                13           3\n",
       "Name: id, dtype: int64"
      ]
     },
     "execution_count": 18,
     "metadata": {},
     "output_type": "execute_result"
    }
   ],
   "source": [
    "df_tmp.groupby(['tappunt_simple', df_tmp.datetime.dt.hour, ]).count()['id']"
   ]
  },
  {
   "cell_type": "code",
   "execution_count": 29,
   "metadata": {},
   "outputs": [
    {
     "data": {
      "text/plain": [
       "<matplotlib.axes._subplots.AxesSubplot at 0x7fbb8db5f128>"
      ]
     },
     "execution_count": 29,
     "metadata": {},
     "output_type": "execute_result"
    },
    {
     "data": {
      "image/png": "[encoded data removed]",
      "text/plain": [
       "<Figure size 432x288 with 2 Axes>"
      ]
     },
     "metadata": {
      "needs_background": "dark"
     },
     "output_type": "display_data"
    }
   ],
   "source": [
    "df_1 = df_tmp[df_tmp.tappunt_simple == '1e tappunt']\n",
    "df_1.groupby([df_1.datetime.dt.date]).count()['id'].plot()\n",
    "df_1 = df_tmp[df_tmp.tappunt_simple == 'douche']\n",
    "df_1.groupby([df_1.datetime.dt.date]).count()['id'].plot(secondary_y=True)"
   ]
  }
 ],
 "metadata": {
  "kernelspec": {
   "display_name": "Python 3",
   "language": "python",
   "name": "python3"
  },
  "language_info": {
   "codemirror_mode": {
    "name": "ipython",
    "version": 3
   },
   "file_extension": ".py",
   "mimetype": "text/x-python",
   "name": "python",
   "nbconvert_exporter": "python",
   "pygments_lexer": "ipython3",
   "version": "3.7.3"
  }
 },
 "nbformat": 4,
 "nbformat_minor": 2
}
