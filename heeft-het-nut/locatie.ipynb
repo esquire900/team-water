{
 "cells": [
  {
   "cell_type": "code",
   "execution_count": 1,
   "metadata": {},
   "outputs": [],
   "source": [
    "import pandas as pd\n",
    "import numpy as np\n",
    "from jupyterthemes import jtplot\n",
    "import matplotlib.pyplot as plt\n",
    "plt.style.use('bmh')\n",
    "\n",
    "jtplot.style()\n",
    "\n",
    "import statsmodels.api as sm"
   ]
  },
  {
   "cell_type": "code",
   "execution_count": 4,
   "metadata": {},
   "outputs": [],
   "source": [
    "df = pd.read_csv('./../data/Monsteruitslagen_Resultaten.csv')\n",
    "df['datetime'] = pd.to_datetime(df.datum + ' ' + df.tijd)\n",
    "\n",
    "def convert_tappunt(x):\n",
    "    x = str(x).lower()\n",
    "    if 'thermostatische douchemengkraan' in x or 'therm.' in x:\n",
    "        return 'douche'\n",
    "    if 'douche' in x:\n",
    "        return 'douche'\n",
    "    if '1e tappunt' in x:\n",
    "        return '1e tappunt'\n",
    "    return 'overige'\n",
    "\n",
    "def convert_ruimte(x):\n",
    "    x = str(x).lower()\n",
    "    if 'kelder' in x:\n",
    "        return 'kelder'\n",
    "    if 'kamer' in x:\n",
    "        return 'kamer'\n",
    "    if 'appartement' in x:\n",
    "        return 'appartement'\n",
    "    if 'technische ruimte' in x:\n",
    "        return 'technische ruimte'\n",
    "    if 'kapsalon' in x:\n",
    "        return 'kapsalon'\n",
    "    return 'overige'\n",
    "    \n",
    "df['tappunt_simple'] = df.tappunt.apply(convert_tappunt)\n",
    "df['ruimte_simple'] = df.ruimte.apply(convert_ruimte)\n",
    "df['location_is_Noorderkroon'] = df.locatienaam.str.contains('Noorderkroon')\n",
    "\n",
    "df_tmp = df[df.component == 'Totaal Legionella spp'].copy()\n",
    "df_tmp.resultaat = df_tmp.resultaat.str.replace('<100', '0').astype(int)\n",
    "df_tmp.resultaat.groupby(pd.qcut(df_tmp.tempvoor, 4)).describe()\n",
    "\n",
    "def get_level(x):\n",
    "    for i in [0,1,2,3,4]:\n",
    "        if '{}.'.format(i) in x:\n",
    "            return i\n",
    "    return -1\n",
    "    \n",
    "df_tmp['app_level'] = df_tmp.ruimte.apply(get_level)\n",
    "df_tmp['resultaat_bin'] = (df_tmp.resultaat > 0).astype(int)"
   ]
  },
  {
   "cell_type": "code",
   "execution_count": 5,
   "metadata": {},
   "outputs": [
    {
     "data": {
      "text/html": [
       "<div>\n",
       "<style scoped>\n",
       "    .dataframe tbody tr th:only-of-type {\n",
       "        vertical-align: middle;\n",
       "    }\n",
       "\n",
       "    .dataframe tbody tr th {\n",
       "        vertical-align: top;\n",
       "    }\n",
       "\n",
       "    .dataframe thead th {\n",
       "        text-align: right;\n",
       "    }\n",
       "</style>\n",
       "<table border=\"1\" class=\"dataframe\">\n",
       "  <thead>\n",
       "    <tr style=\"text-align: right;\">\n",
       "      <th></th>\n",
       "      <th>count</th>\n",
       "      <th>mean</th>\n",
       "      <th>std</th>\n",
       "      <th>min</th>\n",
       "      <th>25%</th>\n",
       "      <th>50%</th>\n",
       "      <th>75%</th>\n",
       "      <th>max</th>\n",
       "    </tr>\n",
       "    <tr>\n",
       "      <th>location_is_Noorderkroon</th>\n",
       "      <th></th>\n",
       "      <th></th>\n",
       "      <th></th>\n",
       "      <th></th>\n",
       "      <th></th>\n",
       "      <th></th>\n",
       "      <th></th>\n",
       "      <th></th>\n",
       "    </tr>\n",
       "  </thead>\n",
       "  <tbody>\n",
       "    <tr>\n",
       "      <th>False</th>\n",
       "      <td>219.0</td>\n",
       "      <td>0.178082</td>\n",
       "      <td>0.383458</td>\n",
       "      <td>0.0</td>\n",
       "      <td>0.0</td>\n",
       "      <td>0.0</td>\n",
       "      <td>0.0</td>\n",
       "      <td>1.0</td>\n",
       "    </tr>\n",
       "    <tr>\n",
       "      <th>True</th>\n",
       "      <td>242.0</td>\n",
       "      <td>0.429752</td>\n",
       "      <td>0.496067</td>\n",
       "      <td>0.0</td>\n",
       "      <td>0.0</td>\n",
       "      <td>0.0</td>\n",
       "      <td>1.0</td>\n",
       "      <td>1.0</td>\n",
       "    </tr>\n",
       "  </tbody>\n",
       "</table>\n",
       "</div>"
      ],
      "text/plain": [
       "                          count      mean       std  min  25%  50%  75%  max\n",
       "location_is_Noorderkroon                                                    \n",
       "False                     219.0  0.178082  0.383458  0.0  0.0  0.0  0.0  1.0\n",
       "True                      242.0  0.429752  0.496067  0.0  0.0  0.0  1.0  1.0"
      ]
     },
     "execution_count": 5,
     "metadata": {},
     "output_type": "execute_result"
    }
   ],
   "source": [
    "df_tmp['resultaat_bin'] .groupby(df_tmp.location_is_Noorderkroon).describe()"
   ]
  },
  {
   "cell_type": "code",
   "execution_count": 10,
   "metadata": {},
   "outputs": [
    {
     "data": {
      "text/html": [
       "<div>\n",
       "<style scoped>\n",
       "    .dataframe tbody tr th:only-of-type {\n",
       "        vertical-align: middle;\n",
       "    }\n",
       "\n",
       "    .dataframe tbody tr th {\n",
       "        vertical-align: top;\n",
       "    }\n",
       "\n",
       "    .dataframe thead th {\n",
       "        text-align: right;\n",
       "    }\n",
       "</style>\n",
       "<table border=\"1\" class=\"dataframe\">\n",
       "  <thead>\n",
       "    <tr style=\"text-align: right;\">\n",
       "      <th></th>\n",
       "      <th>count</th>\n",
       "      <th>mean</th>\n",
       "      <th>std</th>\n",
       "      <th>min</th>\n",
       "      <th>25%</th>\n",
       "      <th>50%</th>\n",
       "      <th>75%</th>\n",
       "      <th>max</th>\n",
       "    </tr>\n",
       "    <tr>\n",
       "      <th>location_is_Noorderkroon</th>\n",
       "      <th></th>\n",
       "      <th></th>\n",
       "      <th></th>\n",
       "      <th></th>\n",
       "      <th></th>\n",
       "      <th></th>\n",
       "      <th></th>\n",
       "      <th></th>\n",
       "    </tr>\n",
       "  </thead>\n",
       "  <tbody>\n",
       "    <tr>\n",
       "      <th>False</th>\n",
       "      <td>219.0</td>\n",
       "      <td>931.96347</td>\n",
       "      <td>5942.282118</td>\n",
       "      <td>0.0</td>\n",
       "      <td>0.0</td>\n",
       "      <td>0.0</td>\n",
       "      <td>0.0</td>\n",
       "      <td>79000.0</td>\n",
       "    </tr>\n",
       "    <tr>\n",
       "      <th>True</th>\n",
       "      <td>242.0</td>\n",
       "      <td>578.92562</td>\n",
       "      <td>1917.145311</td>\n",
       "      <td>0.0</td>\n",
       "      <td>0.0</td>\n",
       "      <td>0.0</td>\n",
       "      <td>275.0</td>\n",
       "      <td>14400.0</td>\n",
       "    </tr>\n",
       "  </tbody>\n",
       "</table>\n",
       "</div>"
      ],
      "text/plain": [
       "                          count       mean          std  min  25%  50%    75%  \\\n",
       "location_is_Noorderkroon                                                        \n",
       "False                     219.0  931.96347  5942.282118  0.0  0.0  0.0    0.0   \n",
       "True                      242.0  578.92562  1917.145311  0.0  0.0  0.0  275.0   \n",
       "\n",
       "                              max  \n",
       "location_is_Noorderkroon           \n",
       "False                     79000.0  \n",
       "True                      14400.0  "
      ]
     },
     "execution_count": 10,
     "metadata": {},
     "output_type": "execute_result"
    }
   ],
   "source": [
    "df_tmp['resultaat'] .groupby(df_tmp.location_is_Noorderkroon).describe()"
   ]
  },
  {
   "cell_type": "code",
   "execution_count": 12,
   "metadata": {},
   "outputs": [
    {
     "data": {
      "text/plain": [
       "<matplotlib.axes._subplots.AxesSubplot at 0x7fed45a7c128>"
      ]
     },
     "execution_count": 12,
     "metadata": {},
     "output_type": "execute_result"
    },
    {
     "data": {
      "image/png": "[encoded data removed]",
      "text/plain": [
       "<Figure size 432x288 with 1 Axes>"
      ]
     },
     "metadata": {
      "needs_background": "dark"
     },
     "output_type": "display_data"
    }
   ],
   "source": [
    "df_tmp[df_tmp.location_is_Noorderkroon].resultaat.plot.kde()"
   ]
  },
  {
   "cell_type": "code",
   "execution_count": 21,
   "metadata": {},
   "outputs": [
    {
     "data": {
      "text/plain": [
       "<matplotlib.axes._subplots.AxesSubplot at 0x7fed44c5a2e8>"
      ]
     },
     "execution_count": 21,
     "metadata": {},
     "output_type": "execute_result"
    },
    {
     "data": {
      "image/png": "[encoded data removed]",
      "text/plain": [
       "<Figure size 432x288 with 1 Axes>"
      ]
     },
     "metadata": {
      "needs_background": "dark"
     },
     "output_type": "display_data"
    }
   ],
   "source": [
    "df_tmp['resultaat_bin'].groupby(df_tmp.location_is_Noorderkroon).mean().plot.bar()"
   ]
  }
 ],
 "metadata": {
  "kernelspec": {
   "display_name": "Python 3",
   "language": "python",
   "name": "python3"
  },
  "language_info": {
   "codemirror_mode": {
    "name": "ipython",
    "version": 3
   },
   "file_extension": ".py",
   "mimetype": "text/x-python",
   "name": "python",
   "nbconvert_exporter": "python",
   "pygments_lexer": "ipython3",
   "version": "3.7.3"
  }
 },
 "nbformat": 4,
 "nbformat_minor": 2
}
