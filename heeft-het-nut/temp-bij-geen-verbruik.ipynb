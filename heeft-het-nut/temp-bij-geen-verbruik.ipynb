{
 "cells": [
  {
   "cell_type": "code",
   "execution_count": 1,
   "metadata": {},
   "outputs": [],
   "source": [
    "import pandas as pd\n",
    "import numpy as np\n",
    "from jupyterthemes import jtplot\n",
    "\n",
    "jtplot.style()"
   ]
  },
  {
   "cell_type": "code",
   "execution_count": 12,
   "metadata": {},
   "outputs": [],
   "source": [
    "df = pd.read_csv('../data/Temperatuur_Flow.csv')\n",
    "df['uitleestijdstip'] = pd.to_datetime(df['uitleestijdstip'])\n",
    "df = df.sort_values(['v-app','uitleestijdstip'])\n",
    "df.set_index('uitleestijdstip', inplace=True)\n",
    "df['vol'] = df['volume 1']\n",
    "df['target'] = df['delta (omg-med)']\n",
    "df['inx'] = df['Unnamed: 0']"
   ]
  },
  {
   "cell_type": "code",
   "execution_count": 33,
   "metadata": {},
   "outputs": [
    {
     "name": "stdout",
     "output_type": "stream",
     "text": [
      "157408\r"
     ]
    }
   ],
   "source": [
    "current_app = False\n",
    "current_volume = 0\n",
    "\n",
    "running_hours = 0\n",
    "data = []\n",
    "for inx, row in df.iterrows():\n",
    "    print(row['inx'], end='\\r')\n",
    "    if row['v-app'] != current_app:\n",
    "        current_app = row['v-app']\n",
    "        current_volume = row['vol']\n",
    "        running_hours = 0\n",
    "        continue\n",
    "    if row['vol'] != current_volume:\n",
    "        current_volume = row['vol']\n",
    "        running_hours = 0\n",
    "        continue\n",
    "    data.append({'hour': running_hours, 'target': row.target})\n",
    "    running_hours += 1\n",
    "    "
   ]
  },
  {
   "cell_type": "code",
   "execution_count": 38,
   "metadata": {},
   "outputs": [
    {
     "data": {
      "text/plain": [
       "<matplotlib.axes._subplots.AxesSubplot at 0x7f1509b9cf60>"
      ]
     },
     "execution_count": 38,
     "metadata": {},
     "output_type": "execute_result"
    },
    {
     "data": {
      "image/png": "[encoded data removed]",
      "text/plain": [
       "<Figure size 432x288 with 1 Axes>"
      ]
     },
     "metadata": {
      "needs_background": "dark"
     },
     "output_type": "display_data"
    }
   ],
   "source": [
    "agg = pd.DataFrame(data).groupby('hour').target\n",
    "agg.median().iloc[:100].plot()\n",
    "agg.mean().iloc[:100].plot()\n",
    "agg.quantile(.75).iloc[:100].plot()\n",
    "agg.quantile(.25).iloc[:100].plot()\n"
   ]
  },
  {
   "cell_type": "code",
   "execution_count": 40,
   "metadata": {},
   "outputs": [],
   "source": [
    "pd.DataFrame(data).to_hdf('./agg.hdf', 'key', complevel=7)"
   ]
  }
 ],
 "metadata": {
  "kernelspec": {
   "display_name": "Python 3",
   "language": "python",
   "name": "python3"
  },
  "language_info": {
   "codemirror_mode": {
    "name": "ipython",
    "version": 3
   },
   "file_extension": ".py",
   "mimetype": "text/x-python",
   "name": "python",
   "nbconvert_exporter": "python",
   "pygments_lexer": "ipython3",
   "version": "3.7.3"
  }
 },
 "nbformat": 4,
 "nbformat_minor": 2
}
